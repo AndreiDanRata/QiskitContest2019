{
 "cells": [
  {
   "cell_type": "code",
   "execution_count": 11,
   "metadata": {},
   "outputs": [],
   "source": [
    "import tkinter as tk"
   ]
  },
  {
   "cell_type": "code",
   "execution_count": 12,
   "metadata": {},
   "outputs": [],
   "source": [
    "def egcd(a, b):\n",
    "    if a == 0:\n",
    "        return (b, 0, 1)\n",
    "    else:\n",
    "        g, y, x = egcd(b % a, a)\n",
    "        return (g, x - (b // a) * y, y)"
   ]
  },
  {
   "cell_type": "code",
   "execution_count": 13,
   "metadata": {},
   "outputs": [],
   "source": [
    "def modinv(a, m):\n",
    "    g, x, y = egcd(a, m)\n",
    "    if g != 1:\n",
    "        raise Exception('modular inverse does not exist')\n",
    "    else:\n",
    "        return x % m"
   ]
  },
  {
   "cell_type": "code",
   "execution_count": 14,
   "metadata": {},
   "outputs": [],
   "source": [
    "def crypt(m,q,p):\n",
    "  l = list(m)\n",
    "  n= p*q\n",
    "  e = 65537\n",
    "  solve=\"\"\n",
    "  for i in range(0, len(l)):\n",
    "      if (l[i]!=' '):\n",
    "        c = ord(l[i])-ord('a') # you add\n",
    "        phi = (p-1)*(q-1)\n",
    "        d = modinv(e,phi)\n",
    "        m = pow(c,d,n)\n",
    "        solve+= chr(ord('a')+m)\n",
    "      else: solve+=' '\n",
    "  return solve"
   ]
  },
  {
   "cell_type": "code",
   "execution_count": 15,
   "metadata": {},
   "outputs": [],
   "source": [
    "encrypt = tk.Tk()\n",
    "tk.Label(encrypt, \n",
    "         text=\"Private Key 1\").grid(row=0)\n",
    "tk.Label(encrypt, \n",
    "         text=\"Private Key 2\").grid(row=1)\n",
    "tk.Label(encrypt, \n",
    "         text=\"Plain text\").grid(row=2)\n",
    "tk.Label(encrypt, \n",
    "         text=\"Encrypted text\").grid(row=3)\n",
    "\n",
    "\n",
    "e1 = tk.Entry(encrypt)\n",
    "e2 = tk.Entry(encrypt)\n",
    "e3 = tk.Entry(encrypt)\n",
    "e4 = tk.Entry(encrypt)\n",
    "\n",
    "e1.grid(row=0, column=1)\n",
    "e2.grid(row=1, column=1)\n",
    "e3.grid(row=2, column=1)\n",
    "e4.grid(row=3, column=1)\n",
    "\n",
    "button = tk.Button(encrypt, text='Encrypt', command=lambda:e4.insert(10,crypt(e3.get(),int(e2.get()),int(e1.get()))))\n",
    "button.grid(row=4, column=0, sticky=tk.W, pady=4)\n",
    "\n",
    "tk.mainloop()\n"
   ]
  }
 ],
 "metadata": {
  "kernelspec": {
   "display_name": "Python 3",
   "language": "python",
   "name": "python3"
  },
  "language_info": {
   "codemirror_mode": {
    "name": "ipython",
    "version": 3
   },
   "file_extension": ".py",
   "mimetype": "text/x-python",
   "name": "python",
   "nbconvert_exporter": "python",
   "pygments_lexer": "ipython3",
   "version": "3.7.3"
  }
 },
 "nbformat": 4,
 "nbformat_minor": 2
}
