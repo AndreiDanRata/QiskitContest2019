{
 "cells": [
  {
   "cell_type": "code",
   "execution_count": 8,
   "metadata": {},
   "outputs": [
    {
     "name": "stderr",
     "output_type": "stream",
     "text": [
      "C:\\Users\\rataa\\Anaconda3\\lib\\site-packages\\qiskit\\providers\\ibmq\\ibmqfactory.py:181: UserWarning: Credentials are already in use. The existing account in the session will be replaced.\n",
      "  warnings.warn('Credentials are already in use. The existing '\n"
     ]
    }
   ],
   "source": [
    "import tkinter as tk\n",
    "from qiskit import *\n",
    "from qiskit.aqua import *\n",
    "from qiskit.aqua.algorithms.single_sample.shor.shor import Shor\n",
    "IBMQ.load_account()\n",
    "provider = IBMQ.get_provider('ibm-q')\n",
    "backend = provider.get_backend('ibmq_qasm_simulator')\n",
    "quantum_instance = QuantumInstance(backend, shots=1024,skip_qobj_validation=False)"
   ]
  },
  {
   "cell_type": "code",
   "execution_count": 9,
   "metadata": {},
   "outputs": [],
   "source": [
    "def egcd(a, b):\n",
    "    if a == 0:\n",
    "        return (b, 0, 1)\n",
    "    else:\n",
    "        g, y, x = egcd(b % a, a)\n",
    "        return (g, x - (b // a) * y, y)"
   ]
  },
  {
   "cell_type": "code",
   "execution_count": 10,
   "metadata": {},
   "outputs": [],
   "source": [
    "def modinv(a, m):\n",
    "    g, x, y = egcd(a, m)\n",
    "    if g != 1:\n",
    "        raise Exception('modular inverse does not exist')\n",
    "    else:\n",
    "        return x % m"
   ]
  },
  {
   "cell_type": "code",
   "execution_count": 11,
   "metadata": {},
   "outputs": [],
   "source": [
    "def decrypter(p,q,c_text):\n",
    "  n = p*q\n",
    "  e = 65537 # constant\n",
    "  l = list(c_text)\n",
    "  solve=\"\"\n",
    "  for i in range(0, len(l)):\n",
    "      if (l[i]!=' '):\n",
    "        c = ord(l[i])-ord('a') # you add\n",
    "        phi = (p-1)*(q-1)\n",
    "        d = modinv(e,phi)\n",
    "        m = pow(c,d,n)\n",
    "        solve+=chr(ord('a')+m)\n",
    "      else:solve+=' '\n",
    "  return solve     "
   ]
  },
  {
   "cell_type": "code",
   "execution_count": 12,
   "metadata": {},
   "outputs": [],
   "source": [
    "def get_decrypted(crypted,n):\n",
    "    p,q=factor(n)\n",
    "    return decrypter(p,q,crypted)"
   ]
  },
  {
   "cell_type": "code",
   "execution_count": 13,
   "metadata": {},
   "outputs": [],
   "source": [
    "def factor(n):\n",
    "    algorithm = Shor(n);\n",
    "    result = algorithm.run(quantum_instance)\n",
    "    p,q = result['factors'][0]\n",
    "    return p,q"
   ]
  },
  {
   "cell_type": "code",
   "execution_count": 14,
   "metadata": {},
   "outputs": [],
   "source": [
    "decrypt = tk.Tk()\n",
    "tk.Label(decrypt, \n",
    "         text=\"Prime Number\").grid(row=0)\n",
    "tk.Label(decrypt, \n",
    "         text=\"Encrypted String\").grid(row=1)\n",
    "tk.Label(decrypt, \n",
    "         text=\"Decrypted String\").grid(row=2)\n",
    "\n",
    "\n",
    "e1 = tk.Entry(decrypt)\n",
    "e2 = tk.Entry(decrypt)\n",
    "e3 = tk.Entry(decrypt)\n",
    "\n",
    "e1.grid(row=0, column=1)\n",
    "e2.grid(row=1, column=1)\n",
    "e3.grid(row=2, column=1)\n",
    "\n",
    "button = tk.Button(decrypt, text='Decrypt', command=lambda:e3.insert(10,get_decrypted(e2.get(),int(e1.get()))))\n",
    "button.grid(row=3,column=0,sticky=tk.W,pady=4)\n",
    "\n",
    "tk.mainloop()"
   ]
  },
  {
   "cell_type": "code",
   "execution_count": null,
   "metadata": {},
   "outputs": [],
   "source": []
  }
 ],
 "metadata": {
  "kernelspec": {
   "display_name": "Python 3",
   "language": "python",
   "name": "python3"
  },
  "language_info": {
   "codemirror_mode": {
    "name": "ipython",
    "version": 3
   },
   "file_extension": ".py",
   "mimetype": "text/x-python",
   "name": "python",
   "nbconvert_exporter": "python",
   "pygments_lexer": "ipython3",
   "version": "3.7.3"
  }
 },
 "nbformat": 4,
 "nbformat_minor": 2
}
